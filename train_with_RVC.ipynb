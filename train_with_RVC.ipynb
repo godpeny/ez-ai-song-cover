{
 "cells": [
  {
   "cell_type": "code",
   "execution_count": 1,
   "outputs": [],
   "source": [
    "import pyworld\n",
    "from huggingface_hub import hf_hub_download # downloading model"
   ],
   "metadata": {
    "collapsed": false,
    "ExecuteTime": {
     "end_time": "2023-08-14T13:00:21.560643Z",
     "start_time": "2023-08-14T13:00:21.385411Z"
    }
   },
   "id": "505f7021c020c950"
  },
  {
   "cell_type": "code",
   "execution_count": 2,
   "outputs": [],
   "source": [
    "mode = \"training\" \n",
    "MODEL_NAME = \"avc\""
   ],
   "metadata": {
    "collapsed": false,
    "ExecuteTime": {
     "end_time": "2023-08-14T13:00:22.526516Z",
     "start_time": "2023-08-14T13:00:22.522170Z"
    }
   },
   "id": "initial_id"
  },
  {
   "cell_type": "code",
   "execution_count": 3,
   "outputs": [
    {
     "name": "stdout",
     "output_type": "stream",
     "text": [
      "fatal: 'Retrieval-based-Voice-Conversion-WebUI' already exists in the index\r\n"
     ]
    }
   ],
   "source": [
    "!git submodule add https://github.com/godpeny/Retrieval-based-Voice-Conversion-WebUI.git\n",
    "!git submodule update --init --recursive\n",
    "!mkdir -p Retrieval-based-Voice-Conversion-WebUI/logs/{MODEL_NAME}"
   ],
   "metadata": {
    "collapsed": false,
    "ExecuteTime": {
     "end_time": "2023-08-14T13:00:23.995378Z",
     "start_time": "2023-08-14T13:00:23.522146Z"
    }
   },
   "id": "4291cfc67515e44f"
  },
  {
   "cell_type": "code",
   "execution_count": 5,
   "outputs": [
    {
     "data": {
      "text/plain": "Downloading hubert_base.pt:   0%|          | 0.00/190M [00:00<?, ?B/s]",
      "application/vnd.jupyter.widget-view+json": {
       "version_major": 2,
       "version_minor": 0,
       "model_id": "cf84cd84f1794f8a95cd54aeecfbe538"
      }
     },
     "metadata": {},
     "output_type": "display_data"
    },
    {
     "data": {
      "text/plain": "Downloading rmvpe.pt:   0%|          | 0.00/181M [00:00<?, ?B/s]",
      "application/vnd.jupyter.widget-view+json": {
       "version_major": 2,
       "version_minor": 0,
       "model_id": "8ae0509bf08641bdbcb192629752eae7"
      }
     },
     "metadata": {},
     "output_type": "display_data"
    },
    {
     "data": {
      "text/plain": "'Retrieval-based-Voice-Conversion-WebUI/rmvpe.pt'"
     },
     "execution_count": 5,
     "metadata": {},
     "output_type": "execute_result"
    }
   ],
   "source": [
    "# Download pretrained model from huggingface hub\n",
    "REPO_ID = \"lj1995/VoiceConversionWebUI\"\n",
    "\n",
    "# for v1\n",
    "hf_hub_download(repo_id=REPO_ID, filename=\"pretrained/D32k.pth\", local_dir=\"Retrieval-based-Voice-Conversion-WebUI\", local_dir_use_symlinks=False)\n",
    "hf_hub_download(repo_id=REPO_ID, filename=\"pretrained/D40k.pth\", local_dir=\"Retrieval-based-Voice-Conversion-WebUI\", local_dir_use_symlinks=False)\n",
    "hf_hub_download(repo_id=REPO_ID, filename=\"pretrained/D48k.pth\", local_dir=\"Retrieval-based-Voice-Conversion-WebUI\", local_dir_use_symlinks=False)\n",
    "hf_hub_download(repo_id=REPO_ID, filename=\"pretrained/G32k.pth\", local_dir=\"Retrieval-based-Voice-Conversion-WebUI\", local_dir_use_symlinks=False)\n",
    "hf_hub_download(repo_id=REPO_ID, filename=\"pretrained/G40k.pth\", local_dir=\"Retrieval-based-Voice-Conversion-WebUI\", local_dir_use_symlinks=False)\n",
    "hf_hub_download(repo_id=REPO_ID, filename=\"pretrained/G48k.pth\", local_dir=\"Retrieval-based-Voice-Conversion-WebUI\", local_dir_use_symlinks=False)\n",
    "hf_hub_download(repo_id=REPO_ID, filename=\"pretrained/f0D32k.pth\", local_dir=\"Retrieval-based-Voice-Conversion-WebUI\", local_dir_use_symlinks=False)\n",
    "hf_hub_download(repo_id=REPO_ID, filename=\"pretrained/f0D40k.pth\", local_dir=\"Retrieval-based-Voice-Conversion-WebUI\", local_dir_use_symlinks=False)\n",
    "hf_hub_download(repo_id=REPO_ID, filename=\"pretrained/f0D48k.pth\", local_dir=\"Retrieval-based-Voice-Conversion-WebUI\", local_dir_use_symlinks=False)\n",
    "hf_hub_download(repo_id=REPO_ID, filename=\"pretrained/f0G32k.pth\", local_dir=\"Retrieval-based-Voice-Conversion-WebUI\", local_dir_use_symlinks=False)\n",
    "hf_hub_download(repo_id=REPO_ID, filename=\"pretrained/f0G40k.pth\", local_dir=\"Retrieval-based-Voice-Conversion-WebUI\", local_dir_use_symlinks=False)\n",
    "hf_hub_download(repo_id=REPO_ID, filename=\"pretrained/f0G48k.pth\", local_dir=\"Retrieval-based-Voice-Conversion-WebUI\", local_dir_use_symlinks=False)\n",
    "\n",
    "# for v2\n",
    "hf_hub_download(repo_id=REPO_ID, filename=\"pretrained_v2/D40k.pth\", local_dir=\"Retrieval-based-Voice-Conversion-WebUI\", local_dir_use_symlinks=False)\n",
    "hf_hub_download(repo_id=REPO_ID, filename=\"pretrained_v2/G40k.pth\", local_dir=\"Retrieval-based-Voice-Conversion-WebUI\", local_dir_use_symlinks=False)\n",
    "hf_hub_download(repo_id=REPO_ID, filename=\"pretrained_v2/f0D40k.pth\", local_dir=\"Retrieval-based-Voice-Conversion-WebUI\", local_dir_use_symlinks=False)\n",
    "hf_hub_download(repo_id=REPO_ID, filename=\"pretrained_v2/f0G40k.pth\", local_dir=\"Retrieval-based-Voice-Conversion-WebUI\", local_dir_use_symlinks=False)\n",
    "\n",
    "# hubert_base\n",
    "hf_hub_download(repo_id=REPO_ID, filename=\"hubert_base.pt\", local_dir=\"Retrieval-based-Voice-Conversion-WebUI\", local_dir_use_symlinks=False)\n",
    "hf_hub_download(repo_id=REPO_ID, filename=\"rmvpe.pt\", local_dir=\"Retrieval-based-Voice-Conversion-WebUI\", local_dir_use_symlinks=False)"
   ],
   "metadata": {
    "collapsed": false,
    "ExecuteTime": {
     "end_time": "2023-08-14T13:13:58.525557Z",
     "start_time": "2023-08-14T13:12:34.616307Z"
    }
   },
   "id": "f594dff9f5e99f28"
  },
  {
   "cell_type": "code",
   "execution_count": 8,
   "outputs": [
    {
     "name": "stdout",
     "output_type": "stream",
     "text": [
      "[Errno 2] No such file or directory: 'Retrieval-based-Voice-Conversion-WebUI'\n",
      "/Users/godpeny/Code/src/github.com/godpeny/ai-voice-cover/Retrieval-based-Voice-Conversion-WebUI\n",
      "/Users/godpeny/Code/venv/ai-voice-cover/bin/python3.8\r\n",
      "No supported Nvidia GPU found, use MPS instead\r\n",
      "Use Language: en_US\r\n",
      "Running on local URL:  http://0.0.0.0:7865\r\n",
      "^C\r\n",
      "Keyboard interruption in main thread... closing server.\r\n",
      "\u001B[0m"
     ]
    }
   ],
   "source": [
    "# Run RVC-Web\n",
    "%cd Retrieval-based-Voice-Conversion-WebUI\n",
    "!sh run.sh"
   ],
   "metadata": {
    "collapsed": false,
    "ExecuteTime": {
     "end_time": "2023-08-14T13:30:04.731629Z",
     "start_time": "2023-08-14T13:29:46.891277Z"
    }
   },
   "id": "9f05c707ec2d6cbb"
  },
  {
   "cell_type": "code",
   "execution_count": null,
   "outputs": [],
   "source": [],
   "metadata": {
    "collapsed": false
   },
   "id": "11a95849d0da3826"
  }
 ],
 "metadata": {
  "kernelspec": {
   "display_name": "Python 3",
   "language": "python",
   "name": "python3"
  },
  "language_info": {
   "codemirror_mode": {
    "name": "ipython",
    "version": 2
   },
   "file_extension": ".py",
   "mimetype": "text/x-python",
   "name": "python",
   "nbconvert_exporter": "python",
   "pygments_lexer": "ipython2",
   "version": "2.7.6"
  }
 },
 "nbformat": 4,
 "nbformat_minor": 5
}
