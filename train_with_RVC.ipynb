{
 "cells": [
  {
   "cell_type": "code",
   "execution_count": 6,
   "outputs": [],
   "source": [
    "import pyworld\n",
    "from huggingface_hub import hf_hub_download # downloading model"
   ],
   "metadata": {
    "collapsed": false,
    "ExecuteTime": {
     "end_time": "2023-08-22T14:22:34.581105Z",
     "start_time": "2023-08-22T14:22:34.374262Z"
    }
   },
   "id": "505f7021c020c950"
  },
  {
   "cell_type": "code",
   "execution_count": 7,
   "outputs": [],
   "source": [
    "mode = \"training\" \n",
    "MODEL_NAME = \"zt20230822\""
   ],
   "metadata": {
    "collapsed": false,
    "ExecuteTime": {
     "end_time": "2023-08-22T14:22:36.294109Z",
     "start_time": "2023-08-22T14:22:36.288548Z"
    }
   },
   "id": "initial_id"
  },
  {
   "cell_type": "code",
   "execution_count": 8,
   "outputs": [
    {
     "name": "stdout",
     "output_type": "stream",
     "text": [
      "fatal: not a git repository: /Users/godpeny/Code/src/github.com/godpeny/ai-voice-cover/Retrieval-based-Voice-Conversion-WebUI/Retrieval-based-Voice-Conversion-WebUI/../../.git/modules/Retrieval-based-Voice-Conversion-WebUI/modules/Retrieval-based-Voice-Conversion-WebUI\r\n"
     ]
    }
   ],
   "source": [
    "!git submodule add https://github.com/godpeny/Retrieval-based-Voice-Conversion-WebUI.git\n",
    "!git submodule update --init --recursive\n",
    "!mkdir -p Retrieval-based-Voice-Conversion-WebUI/logs/{MODEL_NAME}"
   ],
   "metadata": {
    "collapsed": false,
    "ExecuteTime": {
     "end_time": "2023-08-22T14:22:38.412994Z",
     "start_time": "2023-08-22T14:22:37.908094Z"
    }
   },
   "id": "4291cfc67515e44f"
  },
  {
   "cell_type": "code",
   "execution_count": null,
   "outputs": [],
   "source": [
    "# Download pretrained model from huggingface hub\n",
    "REPO_ID = \"lj1995/VoiceConversionWebUI\"\n",
    "\n",
    "# for v1\n",
    "hf_hub_download(repo_id=REPO_ID, filename=\"pretrained/D32k.pth\", local_dir=\"Retrieval-based-Voice-Conversion-WebUI\", local_dir_use_symlinks=False)\n",
    "hf_hub_download(repo_id=REPO_ID, filename=\"pretrained/D40k.pth\", local_dir=\"Retrieval-based-Voice-Conversion-WebUI\", local_dir_use_symlinks=False)\n",
    "hf_hub_download(repo_id=REPO_ID, filename=\"pretrained/D48k.pth\", local_dir=\"Retrieval-based-Voice-Conversion-WebUI\", local_dir_use_symlinks=False)\n",
    "hf_hub_download(repo_id=REPO_ID, filename=\"pretrained/G32k.pth\", local_dir=\"Retrieval-based-Voice-Conversion-WebUI\", local_dir_use_symlinks=False)\n",
    "hf_hub_download(repo_id=REPO_ID, filename=\"pretrained/G40k.pth\", local_dir=\"Retrieval-based-Voice-Conversion-WebUI\", local_dir_use_symlinks=False)\n",
    "hf_hub_download(repo_id=REPO_ID, filename=\"pretrained/G48k.pth\", local_dir=\"Retrieval-based-Voice-Conversion-WebUI\", local_dir_use_symlinks=False)\n",
    "hf_hub_download(repo_id=REPO_ID, filename=\"pretrained/f0D32k.pth\", local_dir=\"Retrieval-based-Voice-Conversion-WebUI\", local_dir_use_symlinks=False)\n",
    "hf_hub_download(repo_id=REPO_ID, filename=\"pretrained/f0D40k.pth\", local_dir=\"Retrieval-based-Voice-Conversion-WebUI\", local_dir_use_symlinks=False)\n",
    "hf_hub_download(repo_id=REPO_ID, filename=\"pretrained/f0D48k.pth\", local_dir=\"Retrieval-based-Voice-Conversion-WebUI\", local_dir_use_symlinks=False)\n",
    "hf_hub_download(repo_id=REPO_ID, filename=\"pretrained/f0G32k.pth\", local_dir=\"Retrieval-based-Voice-Conversion-WebUI\", local_dir_use_symlinks=False)\n",
    "hf_hub_download(repo_id=REPO_ID, filename=\"pretrained/f0G40k.pth\", local_dir=\"Retrieval-based-Voice-Conversion-WebUI\", local_dir_use_symlinks=False)\n",
    "hf_hub_download(repo_id=REPO_ID, filename=\"pretrained/f0G48k.pth\", local_dir=\"Retrieval-based-Voice-Conversion-WebUI\", local_dir_use_symlinks=False)\n",
    "\n",
    "# for v2\n",
    "hf_hub_download(repo_id=REPO_ID, filename=\"pretrained_v2/D40k.pth\", local_dir=\"Retrieval-based-Voice-Conversion-WebUI\", local_dir_use_symlinks=False)\n",
    "hf_hub_download(repo_id=REPO_ID, filename=\"pretrained_v2/G40k.pth\", local_dir=\"Retrieval-based-Voice-Conversion-WebUI\", local_dir_use_symlinks=False)\n",
    "hf_hub_download(repo_id=REPO_ID, filename=\"pretrained_v2/f0D40k.pth\", local_dir=\"Retrieval-based-Voice-Conversion-WebUI\", local_dir_use_symlinks=False)\n",
    "hf_hub_download(repo_id=REPO_ID, filename=\"pretrained_v2/f0G40k.pth\", local_dir=\"Retrieval-based-Voice-Conversion-WebUI\", local_dir_use_symlinks=False)\n",
    "\n",
    "# hubert_base\n",
    "hf_hub_download(repo_id=REPO_ID, filename=\"hubert_base.pt\", local_dir=\"Retrieval-based-Voice-Conversion-WebUI\", local_dir_use_symlinks=False)\n",
    "hf_hub_download(repo_id=REPO_ID, filename=\"rmvpe.pt\", local_dir=\"Retrieval-based-Voice-Conversion-WebUI\", local_dir_use_symlinks=False)"
   ],
   "metadata": {
    "collapsed": false
   },
   "id": "f594dff9f5e99f28"
  },
  {
   "cell_type": "code",
   "execution_count": 11,
   "outputs": [],
   "source": [
    "# Run RVC-Web\n",
    "!cd Retrieval-based-Voice-Conversion-WebUI"
   ],
   "metadata": {
    "collapsed": false,
    "ExecuteTime": {
     "end_time": "2023-08-22T14:23:35.200269Z",
     "start_time": "2023-08-22T14:23:35.072970Z"
    }
   },
   "id": "9f05c707ec2d6cbb"
  },
  {
   "cell_type": "code",
   "execution_count": null,
   "outputs": [
    {
     "name": "stdout",
     "output_type": "stream",
     "text": [
      "No supported Nvidia GPU found, use MPS instead\r\n",
      "Use Language: en_US\r\n",
      "Running on local URL:  http://0.0.0.0:7865\r\n",
      "loading weights/zt20230822.pth\r\n",
      "gin_channels: 256 self.spk_embed_dim: 109\r\n",
      "<All keys matched successfully>\r\n",
      "2023-08-23 01:44:04 | INFO | fairseq.tasks.hubert_pretraining | current directory is /Users/godpeny/Code/src/github.com/godpeny/ai-voice-cover/Retrieval-based-Voice-Conversion-WebUI\r\n",
      "2023-08-23 01:44:04 | INFO | fairseq.tasks.hubert_pretraining | HubertPretrainingTask Config {'_name': 'hubert_pretraining', 'data': 'metadata', 'fine_tuning': False, 'labels': ['km'], 'label_dir': 'label', 'label_rate': 50.0, 'sample_rate': 16000, 'normalize': False, 'enable_padding': False, 'max_keep_size': None, 'max_sample_size': 250000, 'min_sample_size': 32000, 'single_target': False, 'random_crop': True, 'pad_audio': False}\r\n",
      "2023-08-23 01:44:04 | INFO | fairseq.models.hubert.hubert | HubertModel Config: {'_name': 'hubert', 'label_rate': 50.0, 'extractor_mode': default, 'encoder_layers': 12, 'encoder_embed_dim': 768, 'encoder_ffn_embed_dim': 3072, 'encoder_attention_heads': 12, 'activation_fn': gelu, 'layer_type': transformer, 'dropout': 0.1, 'attention_dropout': 0.1, 'activation_dropout': 0.0, 'encoder_layerdrop': 0.05, 'dropout_input': 0.1, 'dropout_features': 0.1, 'final_dim': 256, 'untie_final_proj': True, 'layer_norm_first': False, 'conv_feature_layers': '[(512,10,5)] + [(512,3,2)] * 4 + [(512,2,2)] * 2', 'conv_bias': False, 'logit_temp': 0.1, 'target_glu': False, 'feature_grad_mult': 0.1, 'mask_length': 10, 'mask_prob': 0.8, 'mask_selection': static, 'mask_other': 0.0, 'no_mask_overlap': False, 'mask_min_space': 1, 'mask_channel_length': 10, 'mask_channel_prob': 0.0, 'mask_channel_selection': static, 'mask_channel_other': 0.0, 'no_mask_channel_overlap': False, 'mask_channel_min_space': 1, 'conv_pos': 128, 'conv_pos_groups': 16, 'latent_temp': [2.0, 0.5, 0.999995], 'skip_masked': False, 'skip_nomask': False, 'checkpoint_activations': False, 'required_seq_len_multiple': 2, 'depthwise_conv_kernel_size': 31, 'attn_type': '', 'pos_enc_type': 'abs', 'fp16': False}\r\n"
     ]
    }
   ],
   "source": [
    "!sh run.sh"
   ],
   "metadata": {
    "collapsed": false,
    "is_executing": true,
    "ExecuteTime": {
     "start_time": "2023-08-22T16:43:42.904523Z"
    }
   },
   "id": "d0d614314ff2d1bd"
  },
  {
   "cell_type": "code",
   "execution_count": null,
   "outputs": [],
   "source": [],
   "metadata": {
    "collapsed": false
   },
   "id": "47cefa789fe3000d"
  }
 ],
 "metadata": {
  "kernelspec": {
   "display_name": "Python 3",
   "language": "python",
   "name": "python3"
  },
  "language_info": {
   "codemirror_mode": {
    "name": "ipython",
    "version": 2
   },
   "file_extension": ".py",
   "mimetype": "text/x-python",
   "name": "python",
   "nbconvert_exporter": "python",
   "pygments_lexer": "ipython2",
   "version": "2.7.6"
  }
 },
 "nbformat": 4,
 "nbformat_minor": 5
}
