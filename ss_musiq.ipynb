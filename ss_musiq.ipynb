{
 "cells": [
  {
   "cell_type": "code",
   "execution_count": 1,
   "outputs": [],
   "source": [
    "# import\n",
    "from __future__ import unicode_literals\n",
    "\"\"\"\n",
    "future is the missing compatibility layer between Python 2 and Python 3. It allows you to use a single, clean Python 3.x-compatible codebase to support both Python 2 and Python 3 with minimal overhead.\n",
    "\"\"\"\n",
    "\n",
    "import yt_dlp\n",
    "import subprocess\n",
    "\n",
    "import numpy as np\n",
    "import librosa\n",
    "import soundfile\n",
    "import demucs"
   ],
   "metadata": {
    "collapsed": false,
    "ExecuteTime": {
     "end_time": "2023-08-14T09:54:57.975795Z",
     "start_time": "2023-08-14T09:54:57.737316Z"
    }
   },
   "id": "13d80becbec85c09"
  },
  {
   "cell_type": "code",
   "execution_count": 2,
   "outputs": [],
   "source": [
    "#Input Variables\n",
    "Mode = \"Splitting\" \n",
    "url = \"https://www.youtube.com/watch?v=X3Nob_3LHTA\"\n",
    "drive_path = \"\" \n",
    "AUDIO_NAME = \"Always\" \n",
    "\n",
    "!mkdir youtubeaudio"
   ],
   "metadata": {
    "collapsed": false,
    "ExecuteTime": {
     "end_time": "2023-08-14T09:55:03.942832Z",
     "start_time": "2023-08-14T09:55:03.821552Z"
    }
   },
   "id": "2ea8f5d6b2412835"
  },
  {
   "cell_type": "code",
   "execution_count": 3,
   "outputs": [
    {
     "name": "stdout",
     "output_type": "stream",
     "text": [
      "[youtube] Extracting URL: https://www.youtube.com/watch?v=X3Nob_3LHTA\n",
      "[youtube] X3Nob_3LHTA: Downloading webpage\n",
      "[youtube] X3Nob_3LHTA: Downloading ios player API JSON\n",
      "[youtube] X3Nob_3LHTA: Downloading android player API JSON\n",
      "[youtube] X3Nob_3LHTA: Downloading m3u8 information\n",
      "[info] X3Nob_3LHTA: Downloading 1 format(s): 251\n",
      "[download] Destination: youtubeaudio/Always\n",
      "[download] 100% of    3.59MiB in 00:00:00 at 7.38MiB/s   \n",
      "[ExtractAudio] Destination: youtubeaudio/Always.wav\n",
      "Deleting original file youtubeaudio/Always (pass -k to keep)\n"
     ]
    }
   ],
   "source": [
    "# Download YouTube WAV\n",
    "ydl_opts = {\n",
    "    'format': 'bestaudio/best',\n",
    "    'postprocessors': [{\n",
    "        'key': 'FFmpegExtractAudio',\n",
    "        'preferredcodec': 'wav',\n",
    "    }],\n",
    "    'ffmpeg_location': 'bins/apple_silicon', # if you are using an Apple Silicon\n",
    "    'outtmpl': f'youtubeaudio/{AUDIO_NAME}',  # this is where you can edit how you'd like the filenames to be formatted\n",
    "}\n",
    "def download_from_url(url):\n",
    "    ydl.download([url])\n",
    "    # stream = ffmpeg.input('output.m4a')\n",
    "    # stream = ffmpeg.output(stream, 'output.wav')\n",
    "with yt_dlp.YoutubeDL(ydl_opts) as ydl:\n",
    "    download_from_url(url)"
   ],
   "metadata": {
    "collapsed": false,
    "ExecuteTime": {
     "end_time": "2023-08-14T09:55:08.152435Z",
     "start_time": "2023-08-14T09:55:04.893661Z"
    }
   },
   "id": "b42ce4b75180bc51"
  },
  {
   "cell_type": "code",
   "execution_count": 4,
   "outputs": [
    {
     "name": "stderr",
     "output_type": "stream",
     "text": [
      "100%|██████████████████████████████████████████████| 228.14999999999998/228.14999999999998 [01:50<00:00,  2.06seconds/s]"
     ]
    },
    {
     "name": "stdout",
     "output_type": "stream",
     "text": [
      "\u001B[1mImportant: the default model was recently changed to `htdemucs`\u001B[0m the latest Hybrid Transformer Demucs model. In some cases, this model can actually perform worse than previous models. To get back the old default model use `-n mdx_extra_q`.\n",
      "Selected model is a bag of 1 models. You will see that many progress bars per track.\n",
      "Separated tracks will be stored in /Users/godpeny/Code/src/github.com/godpeny/ai-voice-cover/separated/htdemucs\n",
      "Separating track youtubeaudio/Always.wav\n"
     ]
    },
    {
     "name": "stderr",
     "output_type": "stream",
     "text": [
      "\n"
     ]
    }
   ],
   "source": [
    "# Separate Vocal and Instrument/Noise using Demucs\n",
    "AUDIO_INPUT = f\"./youtubeaudio/{AUDIO_NAME}.wav\"\n",
    "command = f\"demucs --two-stems=vocals {AUDIO_INPUT}\"\n",
    "result = subprocess.run(command.split(), stdout=subprocess.PIPE)\n",
    "print(result.stdout.decode())"
   ],
   "metadata": {
    "collapsed": false,
    "ExecuteTime": {
     "end_time": "2023-08-14T09:57:23.902287Z",
     "start_time": "2023-08-14T09:55:30.818991Z"
    }
   },
   "id": "e23087c2deb58b5f"
  },
  {
   "cell_type": "code",
   "execution_count": 5,
   "outputs": [],
   "source": [
    "if Mode == \"Separate\":\n",
    "    print(\"Mode is set to Separate. Skipping this section\")\n",
    "elif Mode ==  \"Splitting\":\n",
    "    !mkdir -p dataset/{AUDIO_NAME}"
   ],
   "metadata": {
    "collapsed": false,
    "ExecuteTime": {
     "end_time": "2023-08-14T09:57:38.050754Z",
     "start_time": "2023-08-14T09:57:37.921246Z"
    }
   },
   "id": "1b1215d0677d7053"
  },
  {
   "cell_type": "code",
   "execution_count": 6,
   "outputs": [],
   "source": [
    "# This function is obtained from librosa.\n",
    "def get_rms(\n",
    "        y,\n",
    "        *,\n",
    "        frame_length=2048,\n",
    "        hop_length=512,\n",
    "        pad_mode=\"constant\",\n",
    "):\n",
    "    padding = (int(frame_length // 2), int(frame_length // 2))\n",
    "    y = np.pad(y, padding, mode=pad_mode)\n",
    "\n",
    "    axis = -1\n",
    "    # put our new within-frame axis at the end for now\n",
    "    out_strides = y.strides + tuple([y.strides[axis]])\n",
    "    # Reduce the shape on the framing axis\n",
    "    x_shape_trimmed = list(y.shape)\n",
    "    x_shape_trimmed[axis] -= frame_length - 1\n",
    "    out_shape = tuple(x_shape_trimmed) + tuple([frame_length])\n",
    "    xw = np.lib.stride_tricks.as_strided(\n",
    "        y, shape=out_shape, strides=out_strides\n",
    "    )\n",
    "    if axis < 0:\n",
    "        target_axis = axis - 1\n",
    "    else:\n",
    "        target_axis = axis + 1\n",
    "    xw = np.moveaxis(xw, -1, target_axis)\n",
    "    # Downsample along the target axis\n",
    "    slices = [slice(None)] * xw.ndim\n",
    "    slices[axis] = slice(0, None, hop_length)\n",
    "    x = xw[tuple(slices)]\n",
    "\n",
    "    # Calculate power\n",
    "    power = np.mean(np.abs(x) ** 2, axis=-2, keepdims=True)\n",
    "\n",
    "    return np.sqrt(power)\n",
    "\n",
    "class Slicer:\n",
    "    def __init__(self,\n",
    "                 sr: int,\n",
    "                 threshold: float = -40.,\n",
    "                 min_length: int = 5000,\n",
    "                 min_interval: int = 300,\n",
    "                 hop_size: int = 20,\n",
    "                 max_sil_kept: int = 5000):\n",
    "        if not min_length >= min_interval >= hop_size:\n",
    "            raise ValueError('The following condition must be satisfied: min_length >= min_interval >= hop_size')\n",
    "        if not max_sil_kept >= hop_size:\n",
    "            raise ValueError('The following condition must be satisfied: max_sil_kept >= hop_size')\n",
    "        min_interval = sr * min_interval / 1000\n",
    "        self.threshold = 10 ** (threshold / 20.)\n",
    "        self.hop_size = round(sr * hop_size / 1000)\n",
    "        self.win_size = min(round(min_interval), 4 * self.hop_size)\n",
    "        self.min_length = round(sr * min_length / 1000 / self.hop_size)\n",
    "        self.min_interval = round(min_interval / self.hop_size)\n",
    "        self.max_sil_kept = round(sr * max_sil_kept / 1000 / self.hop_size)\n",
    "\n",
    "    def _apply_slice(self, waveform, begin, end):\n",
    "        if len(waveform.shape) > 1:\n",
    "            return waveform[:, begin * self.hop_size: min(waveform.shape[1], end * self.hop_size)]\n",
    "        else:\n",
    "            return waveform[begin * self.hop_size: min(waveform.shape[0], end * self.hop_size)]\n",
    "\n",
    "    def slice(self, waveform):\n",
    "        if len(waveform.shape) > 1:\n",
    "            samples = waveform.mean(axis=0)\n",
    "        else:\n",
    "            samples = waveform\n",
    "        if samples.shape[0] <= self.min_length:\n",
    "            return [waveform]\n",
    "        rms_list = get_rms(y=samples, frame_length=self.win_size, hop_length=self.hop_size).squeeze(0)\n",
    "        sil_tags = []\n",
    "        silence_start = None\n",
    "        clip_start = 0\n",
    "        for i, rms in enumerate(rms_list):\n",
    "            # Keep looping while frame is silent.\n",
    "            if rms < self.threshold:\n",
    "                # Record start of silent frames.\n",
    "                if silence_start is None:\n",
    "                    silence_start = i\n",
    "                continue\n",
    "            # Keep looping while frame is not silent and silence start has not been recorded.\n",
    "            if silence_start is None:\n",
    "                continue\n",
    "            # Clear recorded silence start if interval is not enough or clip is too short\n",
    "            is_leading_silence = silence_start == 0 and i > self.max_sil_kept\n",
    "            need_slice_middle = i - silence_start >= self.min_interval and i - clip_start >= self.min_length\n",
    "            if not is_leading_silence and not need_slice_middle:\n",
    "                silence_start = None\n",
    "                continue\n",
    "            # Need slicing. Record the range of silent frames to be removed.\n",
    "            if i - silence_start <= self.max_sil_kept:\n",
    "                pos = rms_list[silence_start: i + 1].argmin() + silence_start\n",
    "                if silence_start == 0:\n",
    "                    sil_tags.append((0, pos))\n",
    "                else:\n",
    "                    sil_tags.append((pos, pos))\n",
    "                clip_start = pos\n",
    "            elif i - silence_start <= self.max_sil_kept * 2:\n",
    "                pos = rms_list[i - self.max_sil_kept: silence_start + self.max_sil_kept + 1].argmin()\n",
    "                pos += i - self.max_sil_kept\n",
    "                pos_l = rms_list[silence_start: silence_start + self.max_sil_kept + 1].argmin() + silence_start\n",
    "                pos_r = rms_list[i - self.max_sil_kept: i + 1].argmin() + i - self.max_sil_kept\n",
    "                if silence_start == 0:\n",
    "                    sil_tags.append((0, pos_r))\n",
    "                    clip_start = pos_r\n",
    "                else:\n",
    "                    sil_tags.append((min(pos_l, pos), max(pos_r, pos)))\n",
    "                    clip_start = max(pos_r, pos)\n",
    "            else:\n",
    "                pos_l = rms_list[silence_start: silence_start + self.max_sil_kept + 1].argmin() + silence_start\n",
    "                pos_r = rms_list[i - self.max_sil_kept: i + 1].argmin() + i - self.max_sil_kept\n",
    "                if silence_start == 0:\n",
    "                    sil_tags.append((0, pos_r))\n",
    "                else:\n",
    "                    sil_tags.append((pos_l, pos_r))\n",
    "                clip_start = pos_r\n",
    "            silence_start = None\n",
    "        # Deal with trailing silence.\n",
    "        total_frames = rms_list.shape[0]\n",
    "        if silence_start is not None and total_frames - silence_start >= self.min_interval:\n",
    "            silence_end = min(total_frames, silence_start + self.max_sil_kept)\n",
    "            pos = rms_list[silence_start: silence_end + 1].argmin() + silence_start\n",
    "            sil_tags.append((pos, total_frames + 1))\n",
    "        # Apply and return slices.\n",
    "        if len(sil_tags) == 0:\n",
    "            return [waveform]\n",
    "        else:\n",
    "            chunks = []\n",
    "            if sil_tags[0][0] > 0:\n",
    "                chunks.append(self._apply_slice(waveform, 0, sil_tags[0][0]))\n",
    "            for i in range(len(sil_tags) - 1):\n",
    "                chunks.append(self._apply_slice(waveform, sil_tags[i][1], sil_tags[i + 1][0]))\n",
    "            if sil_tags[-1][1] < total_frames:\n",
    "                chunks.append(self._apply_slice(waveform, sil_tags[-1][1], total_frames))\n",
    "            return chunks"
   ],
   "metadata": {
    "collapsed": false,
    "ExecuteTime": {
     "end_time": "2023-08-14T09:57:38.921959Z",
     "start_time": "2023-08-14T09:57:38.917957Z"
    }
   },
   "id": "ec390bc4a466870c"
  },
  {
   "cell_type": "code",
   "execution_count": 7,
   "outputs": [],
   "source": [
    "if Mode == \"Separate\":\n",
    "    print(\"Mode is set to Separate. Skipping this section\")\n",
    "\n",
    "elif Mode ==  \"Splitting\":\n",
    "    audio, sr = librosa.load(f'./separated/htdemucs/{AUDIO_NAME}/vocals.wav', sr=None, mono=False)  # Load an audio file with librosa.\n",
    "    slicer = Slicer(\n",
    "        sr=sr,\n",
    "        threshold=-40,\n",
    "        min_length=5000,\n",
    "        min_interval=200,\n",
    "        hop_size=10,\n",
    "        max_sil_kept=500\n",
    "    )\n",
    "    chunks = slicer.slice(audio)\n",
    "    for i, chunk in enumerate(chunks):\n",
    "        if len(chunk.shape) > 1:\n",
    "            chunk = chunk.T  # Swap axes if the audio is stereo.\n",
    "        soundfile.write(f'./dataset/{AUDIO_NAME}/split_{i}.wav', chunk, sr)  # Save sliced audio files with soundfile."
   ],
   "metadata": {
    "collapsed": false,
    "ExecuteTime": {
     "end_time": "2023-08-14T10:06:00.421563Z",
     "start_time": "2023-08-14T10:05:57.576103Z"
    }
   },
   "id": "53bf404a689413c0"
  }
 ],
 "metadata": {
  "kernelspec": {
   "display_name": "Python 3",
   "language": "python",
   "name": "python3"
  },
  "language_info": {
   "codemirror_mode": {
    "name": "ipython",
    "version": 2
   },
   "file_extension": ".py",
   "mimetype": "text/x-python",
   "name": "python",
   "nbconvert_exporter": "python",
   "pygments_lexer": "ipython2",
   "version": "2.7.6"
  }
 },
 "nbformat": 4,
 "nbformat_minor": 5
}
